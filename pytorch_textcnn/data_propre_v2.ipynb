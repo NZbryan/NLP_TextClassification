{
 "cells": [
  {
   "cell_type": "code",
   "execution_count": 110,
   "metadata": {},
   "outputs": [],
   "source": [
    "import pandas as pd\n",
    "import pymysql\n",
    "import random\n",
    "\n",
    "conn=pymysql.connect(host='106.75.133.199',port=6823,user='gml_read',passwd='X7CGsW0HBKsdjsG_Msc;af',db='gml_base_qa',use_unicode=True, charset=\"utf8\")\n",
    "sql=\"SELECT a.goods_name,a.category_level2,b.name FROM common_goods_info a LEFT JOIN category_info b ON a.category_level2=b.id \"\n",
    "df_all=pd.read_sql(sql,con=conn)\n",
    "conn.close()"
   ]
  },
  {
   "cell_type": "code",
   "execution_count": 112,
   "metadata": {},
   "outputs": [
    {
     "name": "stdout",
     "output_type": "stream",
     "text": [
      "df_model: (120567, 2)\n",
      "train_set: (96456, 2)\n",
      "test_set: (24111, 2)\n",
      "train_set+test_set: 120567\n"
     ]
    }
   ],
   "source": [
    "df_model = df_all.loc[df_all[\"category_level2\"].notna(),[\"goods_name\",\"name\"]]\n",
    "#sampling\n",
    "grouped = df_model.groupby('name',group_keys=False)\n",
    "train_index = grouped.apply(lambda x: x.sample(frac=0.8,random_state=8))\n",
    "train_set = df_model.loc[train_index.index].reset_index(drop=True)\n",
    "test_set = df_model.loc[~df_model.index.isin(train_index.index)].reset_index(drop=True)\n",
    "print(\"df_model:\",df_model.shape)\n",
    "print(\"train_set:\",train_set.shape)\n",
    "print(\"test_set:\",test_set.shape)\n",
    "print(\"train_set+test_set:\",train_set.shape[0] + test_set.shape[0])"
   ]
  },
  {
   "cell_type": "code",
   "execution_count": 1,
   "metadata": {},
   "outputs": [
    {
     "ename": "NameError",
     "evalue": "name 'df_model' is not defined",
     "output_type": "error",
     "traceback": [
      "\u001b[0;31m----------------------------------------------------\u001b[0m",
      "\u001b[0;31mNameError\u001b[0m          Traceback (most recent call last)",
      "\u001b[0;32m<ipython-input-1-40f20b836f7a>\u001b[0m in \u001b[0;36m<module>\u001b[0;34m()\u001b[0m\n\u001b[0;32m----> 1\u001b[0;31m \u001b[0mdf_model\u001b[0m\u001b[0;34m.\u001b[0m\u001b[0mhead\u001b[0m\u001b[0;34m(\u001b[0m\u001b[0;34m)\u001b[0m\u001b[0;34m\u001b[0m\u001b[0m\n\u001b[0m",
      "\u001b[0;31mNameError\u001b[0m: name 'df_model' is not defined"
     ]
    }
   ],
   "source": [
    "df_model"
   ]
  },
  {
   "cell_type": "code",
   "execution_count": 129,
   "metadata": {},
   "outputs": [
    {
     "data": {
      "text/html": [
       "<div>\n",
       "<style scoped>\n",
       "    .dataframe tbody tr th:only-of-type {\n",
       "        vertical-align: middle;\n",
       "    }\n",
       "\n",
       "    .dataframe tbody tr th {\n",
       "        vertical-align: top;\n",
       "    }\n",
       "\n",
       "    .dataframe thead th {\n",
       "        text-align: right;\n",
       "    }\n",
       "</style>\n",
       "<table border=\"1\" class=\"dataframe\">\n",
       "  <thead>\n",
       "    <tr style=\"text-align: right;\">\n",
       "      <th></th>\n",
       "      <th>goods_name</th>\n",
       "      <th>name</th>\n",
       "    </tr>\n",
       "  </thead>\n",
       "  <tbody>\n",
       "    <tr>\n",
       "      <th>0</th>\n",
       "      <td>PANIER DES SENS熏衣草精油固体皂</td>\n",
       "      <td>个人洗护</td>\n",
       "    </tr>\n",
       "    <tr>\n",
       "      <th>1</th>\n",
       "      <td>潘婷丝质顺滑洗发乳400ml</td>\n",
       "      <td>个人洗护</td>\n",
       "    </tr>\n",
       "    <tr>\n",
       "      <th>2</th>\n",
       "      <td>黑龙堂 hipitch 角栓温和卸妆油 敏感肌可用 190ml</td>\n",
       "      <td>个人洗护</td>\n",
       "    </tr>\n",
       "    <tr>\n",
       "      <th>3</th>\n",
       "      <td>Goat Soap 山羊奶洁面皂</td>\n",
       "      <td>个人洗护</td>\n",
       "    </tr>\n",
       "    <tr>\n",
       "      <th>4</th>\n",
       "      <td>Cetaphil 丝塔芙 温和洁面乳</td>\n",
       "      <td>个人洗护</td>\n",
       "    </tr>\n",
       "  </tbody>\n",
       "</table>\n",
       "</div>"
      ],
      "text/plain": [
       "                        goods_name  name\n",
       "0          PANIER DES SENS熏衣草精油固体皂  个人洗护\n",
       "1                   潘婷丝质顺滑洗发乳400ml  个人洗护\n",
       "2  黑龙堂 hipitch 角栓温和卸妆油 敏感肌可用 190ml  个人洗护\n",
       "3                 Goat Soap 山羊奶洁面皂  个人洗护\n",
       "4               Cetaphil 丝塔芙 温和洁面乳  个人洗护"
      ]
     },
     "execution_count": 129,
     "metadata": {},
     "output_type": "execute_result"
    }
   ],
   "source": [
    "train_set.head()"
   ]
  },
  {
   "cell_type": "code",
   "execution_count": 124,
   "metadata": {},
   "outputs": [
    {
     "data": {
      "text/plain": [
       "<bound method Series.mean of 0         20\n",
       "1         28\n",
       "2         24\n",
       "3         34\n",
       "4         32\n",
       "          ..\n",
       "131179    23\n",
       "131180    25\n",
       "131181    27\n",
       "131182    21\n",
       "131183    31\n",
       "Name: goods_name, Length: 131184, dtype: int64>"
      ]
     },
     "execution_count": 124,
     "metadata": {},
     "output_type": "execute_result"
    }
   ],
   "source": [
    "df_all[\"goods_name\"].map(lambda x:len(x))"
   ]
  },
  {
   "cell_type": "code",
   "execution_count": 128,
   "metadata": {},
   "outputs": [
    {
     "data": {
      "text/plain": [
       "26.777899743871203"
      ]
     },
     "execution_count": 128,
     "metadata": {},
     "output_type": "execute_result"
    }
   ],
   "source": [
    "df_all[\"goods_name\"].map(lambda x:len(x)).values.mean()"
   ]
  }
 ],
 "metadata": {
  "kernelspec": {
   "display_name": "Python 3",
   "language": "python",
   "name": "python3"
  },
  "language_info": {
   "codemirror_mode": {
    "name": "ipython",
    "version": 3
   },
   "file_extension": ".py",
   "mimetype": "text/x-python",
   "name": "python",
   "nbconvert_exporter": "python",
   "pygments_lexer": "ipython3",
   "version": "3.6.5"
  }
 },
 "nbformat": 4,
 "nbformat_minor": 2
}
