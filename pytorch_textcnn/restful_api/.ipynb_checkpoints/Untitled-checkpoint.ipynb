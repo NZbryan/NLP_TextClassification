{
 "cells": [
  {
   "cell_type": "code",
   "execution_count": 6,
   "metadata": {},
   "outputs": [
    {
     "name": "stdout",
     "output_type": "stream",
     "text": [
      "data: easy! wu shou quan\n"
     ]
    }
   ],
   "source": [
    "import hashlib\n",
    "import math\n",
    "import random\n",
    "import requests\n",
    "from datetime import datetime\n",
    "\n",
    "text = ['美国Nordic Naturals 儿童草莓味DHA鳕鱼油口服液 119ml',\n",
    "        'DERMACEPT C10铂金抗氧套装']\n",
    "\n",
    "nonce = math.floor(random.uniform(100000, 1000000))\n",
    "params = {'appkey': 'Ka5Lpcc8', 'timestamp': datetime.now().timestamp(),\n",
    "          'nonce': nonce,'token':'abc'}\n",
    "params['text'] = text\n",
    "token = params.get('token', '')\n",
    "timestamp = params.get('timestamp', '')\n",
    "nonce = params.get('nonce')\n",
    "appkey = params.get('appkey', '')\n",
    "appsecret = 'd68397c4fw671bc024e24e1964b067kq3539837'\n",
    "m = hashlib.md5()\n",
    "m.update(f'{appkey}{timestamp}{nonce}{appsecret}'.encode('utf-8'))\n",
    "sign = m.hexdigest()\n",
    "params['sign'] = sign\n",
    "\n",
    "# url01 = 'http://10.10.103.17:5000/wu_shouquan'\n",
    "url01 = 'http://10.10.103.17:5000/textclf'\n",
    "\n",
    "data = requests.post(url=url01,params=params,headers={'Content-Type':'application/json;charset=UTF-8',}).text\n",
    "\n",
    "print(\"data:\",data)"
   ]
  }
 ],
 "metadata": {
  "kernelspec": {
   "display_name": "Python 3",
   "language": "python",
   "name": "python3"
  },
  "language_info": {
   "codemirror_mode": {
    "name": "ipython",
    "version": 3
   },
   "file_extension": ".py",
   "mimetype": "text/x-python",
   "name": "python",
   "nbconvert_exporter": "python",
   "pygments_lexer": "ipython3",
   "version": "3.6.5"
  }
 },
 "nbformat": 4,
 "nbformat_minor": 2
}
