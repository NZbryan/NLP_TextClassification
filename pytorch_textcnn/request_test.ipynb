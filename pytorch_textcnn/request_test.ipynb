{
 "cells": [
  {
   "cell_type": "code",
   "execution_count": 7,
   "metadata": {
    "scrolled": false
   },
   "outputs": [
    {
     "data": {
      "text/plain": [
       "['宝宝食品', '个人洗护']"
      ]
     },
     "execution_count": 7,
     "metadata": {},
     "output_type": "execute_result"
    }
   ],
   "source": [
    "# coding:utf-8\n",
    "import requests\n",
    "import json\n",
    "\n",
    "url = 'http://10.10.103.17:5000/TextClassification/'\n",
    "\n",
    "data = [\"美国Nordic Naturals 儿童草莓味DHA鳕鱼油口服液 119ml\", \"DERMACEPT C10铂金抗氧套装\"]\n",
    "j_data = json.dumps(data)\n",
    "headers = {'content-type': 'application/json', 'Accept-Charset': 'UTF-8'}\n",
    "r = requests.post(url, data=j_data, headers=headers)\n",
    "json.loads(r.text)"
   ]
  },
  {
   "cell_type": "code",
   "execution_count": 6,
   "metadata": {},
   "outputs": [
    {
     "data": {
      "text/plain": [
       "'[\"\\\\u7f8e\\\\u56fdNordic Naturals \\\\u513f\\\\u7ae5\\\\u8349\\\\u8393\\\\u5473DHA\\\\u9cd5\\\\u9c7c\\\\u6cb9\\\\u53e3\\\\u670d\\\\u6db2 119ml\", \"DERMACEPT C10\\\\u94c2\\\\u91d1\\\\u6297\\\\u6c27\\\\u5957\\\\u88c5\"]'"
      ]
     },
     "execution_count": 6,
     "metadata": {},
     "output_type": "execute_result"
    }
   ],
   "source": [
    "j_data"
   ]
  },
  {
   "cell_type": "code",
   "execution_count": 146,
   "metadata": {},
   "outputs": [
    {
     "data": {
      "text/plain": [
       "'sqlite:///data.db'"
      ]
     },
     "execution_count": 146,
     "metadata": {},
     "output_type": "execute_result"
    }
   ],
   "source": [
    "import os \n",
    "os.environ.get(\"DATABASE_URL\", \"sqlite:///data.db\")"
   ]
  }
 ],
 "metadata": {
  "kernelspec": {
   "display_name": "Python 3",
   "language": "python",
   "name": "python3"
  },
  "language_info": {
   "codemirror_mode": {
    "name": "ipython",
    "version": 3
   },
   "file_extension": ".py",
   "mimetype": "text/x-python",
   "name": "python",
   "nbconvert_exporter": "python",
   "pygments_lexer": "ipython3",
   "version": "3.6.5"
  }
 },
 "nbformat": 4,
 "nbformat_minor": 2
}
