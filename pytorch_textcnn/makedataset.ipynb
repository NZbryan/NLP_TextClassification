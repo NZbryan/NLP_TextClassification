{
 "cells": [
  {
   "cell_type": "code",
   "execution_count": 1,
   "metadata": {
    "scrolled": true
   },
   "outputs": [],
   "source": [
    "import pandas as pd\n",
    "import pymysql\n",
    "import random\n",
    "from sklearn.utils import shuffle\n",
    "\n",
    "\n",
    "conn=pymysql.connect(host='106.75.133.199',port=6823,user='gml_read',passwd='X7CGsW0HBKsdjsG_Msc;af',db='gml_base_qa',use_unicode=True, charset=\"utf8\")\n",
    "sql=\"SELECT a.goods_name,a.category_level2,b.name FROM common_goods_info a LEFT JOIN category_info b ON a.category_level2=b.id \"\n",
    "df_all=pd.read_sql(sql,con=conn)\n",
    "conn.close()\n",
    "df_model = df_all.loc[df_all[\"category_level2\"].notna(),[\"goods_name\",\"name\"]]\n",
    "categories = sorted(set(df_model[\"name\"]))\n",
    "categories_df = pd.DataFrame({\"name\":categories,\"label\":range(len(categories))})\n",
    "df_model = df_model.merge(categories_df,on=\"name\",how=\"left\")\n",
    "#sampling\n",
    "def class_sampling(df,frac_set):\n",
    "    grouped = df.groupby('name',group_keys=False)\n",
    "    df_index = grouped.apply(lambda x: x.sample(frac=frac_set,random_state=8)).index.tolist()\n",
    "    return df_index\n",
    "train_index = class_sampling(df_model,0.8)\n",
    "train_set = df_model.loc[train_index].reset_index(drop=True)\n",
    "\n",
    "dev_test_set = df_model.loc[~df_model.index.isin(train_index)].reset_index(drop=True)\n",
    "dev_index = class_sampling(dev_test_set,0.5)\n",
    "dev_set = dev_test_set.loc[dev_index].reset_index(drop=True)\n",
    "\n",
    "test_set = dev_test_set.loc[~dev_test_set.index.isin(dev_index)].reset_index(drop=True)\n",
    "#shuffle\n",
    "train_set = shuffle(train_set,random_state=8)\n",
    "dev_set = shuffle(dev_set,random_state=8)\n",
    "test_set = shuffle(test_set,random_state=8)"
   ]
  },
  {
   "cell_type": "code",
   "execution_count": 21,
   "metadata": {},
   "outputs": [],
   "source": [
    "# with open('/home/test2/TextClass/script/dataset/data/train.txt', 'w', encoding='utf-8') as f:\n",
    "#     for index, line in train_set.iterrows():\n",
    "#         f.write(str(line[\"goods_name\"].strip().replace('\\n', '').replace('\\r', '')) + \" +++$+++ \" + str(line[\"label\"]) + \"\\n\")"
   ]
  },
  {
   "cell_type": "code",
   "execution_count": 22,
   "metadata": {},
   "outputs": [],
   "source": [
    "# with open('/home/test2/TextClass/script/dataset/data/dev.txt', 'w', encoding='utf-8') as f:\n",
    "#     for index, line in dev_set.iterrows():\n",
    "#         f.write(str(line[\"goods_name\"].strip().replace('\\n', '').replace('\\r', '')) + \" +++$+++ \" + str(line[\"label\"]) + \"\\n\")"
   ]
  },
  {
   "cell_type": "code",
   "execution_count": 23,
   "metadata": {},
   "outputs": [],
   "source": [
    "# with open('/home/test2/TextClass/script/dataset/data/test.txt', 'w', encoding='utf-8') as f:\n",
    "#     for index, line in test_set.iterrows():\n",
    "#         f.write(str(line[\"goods_name\"].strip().replace('\\n', '').replace('\\r', '')) + \" +++$+++ \" + str(line[\"label\"]) + \"\\n\")"
   ]
  },
  {
   "cell_type": "code",
   "execution_count": 16,
   "metadata": {},
   "outputs": [
    {
     "data": {
      "text/plain": [
       "150"
      ]
     },
     "execution_count": 16,
     "metadata": {},
     "output_type": "execute_result"
    }
   ],
   "source": [
    "# open('/home/test2/TextClass/script/dataset/data/class.txt', mode='w',encoding='utf-8').write('\\n'.join(categories) + '\\n')"
   ]
  },
  {
   "cell_type": "code",
   "execution_count": 5,
   "metadata": {},
   "outputs": [],
   "source": [
    "# with open('/home/test2/TextClass/script/dataset/data/id_to_cate.txt', 'w', encoding='utf-8') as f:\n",
    "#     for index, line in categories_df.iterrows():\n",
    "#         f.write(str(line[\"name\"].strip().replace('\\n', '').replace('\\r', '')) + \" +++$+++ \" + str(line[\"label\"]) + \"\\n\")"
   ]
  },
  {
   "cell_type": "code",
   "execution_count": 6,
   "metadata": {},
   "outputs": [
    {
     "data": {
      "text/html": [
       "<div>\n",
       "<style scoped>\n",
       "    .dataframe tbody tr th:only-of-type {\n",
       "        vertical-align: middle;\n",
       "    }\n",
       "\n",
       "    .dataframe tbody tr th {\n",
       "        vertical-align: top;\n",
       "    }\n",
       "\n",
       "    .dataframe thead th {\n",
       "        text-align: right;\n",
       "    }\n",
       "</style>\n",
       "<table border=\"1\" class=\"dataframe\">\n",
       "  <thead>\n",
       "    <tr style=\"text-align: right;\">\n",
       "      <th></th>\n",
       "      <th>goods_name</th>\n",
       "      <th>name</th>\n",
       "      <th>label</th>\n",
       "    </tr>\n",
       "  </thead>\n",
       "  <tbody>\n",
       "    <tr>\n",
       "      <th>2181</th>\n",
       "      <td>美国Nordic Naturals 儿童草莓味DHA鳕鱼油口服液 119ml</td>\n",
       "      <td>宝宝食品</td>\n",
       "      <td>9</td>\n",
       "    </tr>\n",
       "    <tr>\n",
       "      <th>10601</th>\n",
       "      <td>DERMACEPT C10铂金抗氧套装</td>\n",
       "      <td>个人洗护</td>\n",
       "      <td>0</td>\n",
       "    </tr>\n",
       "    <tr>\n",
       "      <th>2033</th>\n",
       "      <td>理肤泉去痘印修复乳40ml小包装</td>\n",
       "      <td>护理护肤</td>\n",
       "      <td>14</td>\n",
       "    </tr>\n",
       "    <tr>\n",
       "      <th>9556</th>\n",
       "      <td>JBL GO2蓝牙音箱海军蓝</td>\n",
       "      <td>家用家电</td>\n",
       "      <td>11</td>\n",
       "    </tr>\n",
       "    <tr>\n",
       "      <th>4547</th>\n",
       "      <td>欧乐B(Oral-B)多动向活力按摩牙刷</td>\n",
       "      <td>口腔护理</td>\n",
       "      <td>2</td>\n",
       "    </tr>\n",
       "  </tbody>\n",
       "</table>\n",
       "</div>"
      ],
      "text/plain": [
       "                                   goods_name  name  label\n",
       "2181   美国Nordic Naturals 儿童草莓味DHA鳕鱼油口服液 119ml  宝宝食品      9\n",
       "10601                     DERMACEPT C10铂金抗氧套装  个人洗护      0\n",
       "2033                         理肤泉去痘印修复乳40ml小包装  护理护肤     14\n",
       "9556                           JBL GO2蓝牙音箱海军蓝  家用家电     11\n",
       "4547                     欧乐B(Oral-B)多动向活力按摩牙刷  口腔护理      2"
      ]
     },
     "execution_count": 6,
     "metadata": {},
     "output_type": "execute_result"
    }
   ],
   "source": [
    "test_set.tail()"
   ]
  }
 ],
 "metadata": {
  "kernelspec": {
   "display_name": "Python 3",
   "language": "python",
   "name": "python3"
  },
  "language_info": {
   "codemirror_mode": {
    "name": "ipython",
    "version": 3
   },
   "file_extension": ".py",
   "mimetype": "text/x-python",
   "name": "python",
   "nbconvert_exporter": "python",
   "pygments_lexer": "ipython3",
   "version": "3.6.10"
  }
 },
 "nbformat": 4,
 "nbformat_minor": 2
}
