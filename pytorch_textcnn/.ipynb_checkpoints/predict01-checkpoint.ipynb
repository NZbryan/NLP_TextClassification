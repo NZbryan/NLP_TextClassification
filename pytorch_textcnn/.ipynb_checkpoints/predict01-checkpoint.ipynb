{
 "cells": [
  {
   "cell_type": "code",
   "execution_count": 3,
   "metadata": {},
   "outputs": [],
   "source": [
    "# coding: UTF-8\n",
    "import time\n",
    "import torch\n",
    "import numpy as np\n",
    "from train_eval import train, init_network\n",
    "from importlib import import_module\n",
    "import pickle as pkl\n",
    "\n",
    "dataset = 'dataset'  # 数据集\n",
    "embedding = 'random'\n",
    "model_name = 'TextCNN'  # 'TextRCNN'  # TextCNN, TextRNN, FastText, TextRCNN, TextRNN_Att, DPCNN, Transformer\n",
    "x = import_module(model_name)\n",
    "config = x.Config(dataset, embedding)\n",
    "\n",
    "vocab = pkl.load(open(config.vocab_path, 'rb'))\n",
    "config.n_vocab = len(vocab)\n",
    "model = x.Model(config).to(config.device)"
   ]
  },
  {
   "cell_type": "code",
   "execution_count": 69,
   "metadata": {},
   "outputs": [],
   "source": [
    "id_to_cate = {int(x.split(\" +++$+++ \")[1].strip()):x.split(\" +++$+++ \")[0] for x in open(dataset + '/data/id_to_cate.txt', encoding='utf-8').readlines()}"
   ]
  },
  {
   "cell_type": "code",
   "execution_count": 76,
   "metadata": {},
   "outputs": [
    {
     "data": {
      "text/plain": [
       "'口腔护理'"
      ]
     },
     "execution_count": 76,
     "metadata": {},
     "output_type": "execute_result"
    }
   ],
   "source": [
    "id_to_cate[2]"
   ]
  },
  {
   "cell_type": "code",
   "execution_count": 5,
   "metadata": {},
   "outputs": [
    {
     "data": {
      "text/plain": [
       "Model(\n",
       "  (embedding): Embedding(3454, 300, padding_idx=3453)\n",
       "  (convs): ModuleList(\n",
       "    (0): Conv2d(1, 256, kernel_size=(2, 300), stride=(1, 1))\n",
       "    (1): Conv2d(1, 256, kernel_size=(3, 300), stride=(1, 1))\n",
       "    (2): Conv2d(1, 256, kernel_size=(4, 300), stride=(1, 1))\n",
       "  )\n",
       "  (dropout): Dropout(p=0.5, inplace=False)\n",
       "  (fc): Linear(in_features=768, out_features=26, bias=True)\n",
       ")"
      ]
     },
     "execution_count": 5,
     "metadata": {},
     "output_type": "execute_result"
    }
   ],
   "source": [
    "model.load_state_dict(torch.load(config.save_path))\n",
    "model.eval()"
   ]
  },
  {
   "cell_type": "code",
   "execution_count": null,
   "metadata": {},
   "outputs": [],
   "source": [
    "with torch.no_grad():\n",
    "    for texts, labels in data_iter:\n",
    "        outputs = model(texts)"
   ]
  },
  {
   "cell_type": "code",
   "execution_count": 41,
   "metadata": {},
   "outputs": [],
   "source": [
    "def load_dataset(content, pad_size=32):\n",
    "    UNK, PAD = '<UNK>', '<PAD>'  # 未知字，padding符号\n",
    "    tokenizer = lambda x: [y for y in x]\n",
    "    contents = []\n",
    "    words_line = []\n",
    "    token = tokenizer(content)\n",
    "    seq_len = len(token)\n",
    "    if pad_size:\n",
    "        if len(token) < pad_size:\n",
    "            token.extend([PAD] * (pad_size - len(token)))\n",
    "        else:\n",
    "            token = token[:pad_size]\n",
    "            seq_len = pad_size\n",
    "    # word to id\n",
    "    for word in token:\n",
    "        words_line.append(vocab.get(word, vocab.get(UNK)))\n",
    "    contents.append(words_line)\n",
    "    return torch.LongTensor(contents),\"placeholder\""
   ]
  },
  {
   "cell_type": "code",
   "execution_count": 48,
   "metadata": {},
   "outputs": [
    {
     "name": "stdout",
     "output_type": "stream",
     "text": [
      "outputs: tensor([[ -0.3162,   0.7501,  -6.2322,  -7.3522,  -6.8863,  -6.0743,  -4.0020,\n",
      "          -3.6948,  -7.3698,   8.7794,  -3.1653,  -4.1497,  -1.3720,   1.6864,\n",
      "           1.5171,  -7.0695,  -8.6547, -12.9463,  -8.0630,  -6.2699,  -3.6001,\n",
      "         -12.3575,  15.4669,   3.5240,  -1.0531,  -3.5328]],\n",
      "       grad_fn=<AddmmBackward>)\n",
      "predic: [22]\n"
     ]
    }
   ],
   "source": [
    "content = load_dataset(\"禧贝happybaby 蓝莓甜菜糙米饼40g/袋\")\n",
    "outputs = model(content)\n",
    "predic = torch.max(outputs.data, 1)[1].cpu().numpy()\n",
    "print(\"outputs:\",outputs)\n",
    "print(\"predic:\",predic)"
   ]
  },
  {
   "cell_type": "code",
   "execution_count": 72,
   "metadata": {},
   "outputs": [
    {
     "data": {
      "text/plain": [
       "22"
      ]
     },
     "execution_count": 72,
     "metadata": {},
     "output_type": "execute_result"
    }
   ],
   "source": [
    "torch.max(outputs.data, 1)[1].cpu().numpy()[0]"
   ]
  },
  {
   "cell_type": "code",
   "execution_count": 91,
   "metadata": {
    "scrolled": true
   },
   "outputs": [
    {
     "name": "stdout",
     "output_type": "stream",
     "text": [
      "outputs: tensor([[ -0.3162,   0.7501,  -6.2322,  -7.3522,  -6.8863,  -6.0743,  -4.0020,\n",
      "          -3.6948,  -7.3698,   8.7794,  -3.1653,  -4.1497,  -1.3720,   1.6864,\n",
      "           1.5171,  -7.0695,  -8.6547, -12.9463,  -8.0630,  -6.2699,  -3.6001,\n",
      "         -12.3575,  15.4669,   3.5240,  -1.0531,  -3.5328]])\n",
      "predic: [22]\n"
     ]
    }
   ],
   "source": [
    "content = load_dataset(\"禧贝happybaby 蓝莓甜菜糙米饼40g/袋\")\n",
    "test_iter = build_iterator(test_data, config)\n",
    "with torch.no_grad():\n",
    "#     outputs = model(list(test_iter)[0][0])\n",
    "    outputs = model(content)\n",
    "    predic = torch.max(outputs.data, 1)[1].cpu().numpy()\n",
    "    print(\"outputs:\",outputs)\n",
    "    print(\"predic:\",predic)"
   ]
  },
  {
   "cell_type": "code",
   "execution_count": 84,
   "metadata": {
    "scrolled": true
   },
   "outputs": [
    {
     "data": {
      "text/plain": [
       "array([19, 24,  8,  4, 25, 20, 13,  0, 21,  1,  5,  4,  7,  1, 24,  2, 21,\n",
       "        1,  2, 19, 14, 13,  1, 25, 14,  9, 14, 24, 19, 14, 14, 14, 13, 23,\n",
       "       14,  1, 18, 21, 22, 12, 18, 14, 21, 25,  3,  1,  0, 11, 10, 13, 19,\n",
       "       10, 19, 22, 20, 14, 19, 25,  1,  0,  3, 22, 13, 24,  1, 23,  0,  0,\n",
       "       13,  5, 19, 12,  3, 13,  1, 22, 21, 19, 25,  1, 24,  1,  4,  8,  6,\n",
       "       22, 19, 13,  0, 24,  8, 14, 19, 19,  0, 22, 19, 14,  0, 23,  1, 14,\n",
       "       14, 25,  3, 19, 13, 24, 12,  7,  0, 20,  1, 19,  8, 12,  7, 22, 11,\n",
       "        6, 25, 19,  1, 12,  1,  1, 19,  1])"
      ]
     },
     "execution_count": 84,
     "metadata": {},
     "output_type": "execute_result"
    }
   ],
   "source": [
    "predic"
   ]
  },
  {
   "cell_type": "code",
   "execution_count": 92,
   "metadata": {},
   "outputs": [
    {
     "data": {
      "text/plain": [
       "['进口食品']"
      ]
     },
     "execution_count": 92,
     "metadata": {},
     "output_type": "execute_result"
    }
   ],
   "source": [
    "[id_to_cate[i] for i in predic]"
   ]
  },
  {
   "cell_type": "code",
   "execution_count": 82,
   "metadata": {
    "scrolled": true
   },
   "outputs": [
    {
     "data": {
      "text/plain": [
       "(tensor([[  11,   45,    6,  ...,  657,   88,   21],\n",
       "         [  39,   11,   26,  ..., 3453, 3453, 3453],\n",
       "         [1054,  571, 1149,  ...,  256,   36,    5],\n",
       "         ...,\n",
       "         [ 703,  370,  424,  ..., 3453, 3453, 3453],\n",
       "         [  19,   16,   11,  ..., 3453, 3453, 3453],\n",
       "         [ 338,  170,  651,  ...,    0,   30,    8]]),\n",
       " tensor([32, 19, 32, 32, 18, 25, 32, 21, 18, 32, 18, 32, 21, 24, 32, 24, 27, 23,\n",
       "         20, 32, 32, 28, 20, 18, 32, 26, 31, 19, 32, 25, 20, 26, 28, 32, 20, 25,\n",
       "         14, 26, 22, 27, 20, 31, 32, 32, 23, 13, 25, 11, 29, 19, 22, 32, 32, 11,\n",
       "         30, 21, 32, 32, 23, 24, 32, 16, 32, 24, 10, 15, 11, 23, 32, 24, 32, 19,\n",
       "         32, 24, 26,  9, 19,  8,  2, 26, 32, 27, 21, 18, 25,  9, 13, 32, 15, 24,\n",
       "         30, 16, 32, 13, 18, 26, 32, 11, 20, 16, 14, 32, 25, 15, 11, 17, 23, 32,\n",
       "         19, 26, 24, 21, 22,  4, 32, 26, 17, 20, 32, 25, 30, 16, 17, 32, 24, 25,\n",
       "         26, 32]))"
      ]
     },
     "execution_count": 82,
     "metadata": {},
     "output_type": "execute_result"
    }
   ],
   "source": [
    "list(test_iter)[0][0]"
   ]
  },
  {
   "cell_type": "code",
   "execution_count": 87,
   "metadata": {},
   "outputs": [
    {
     "data": {
      "text/plain": [
       "(tensor([  84,   59,    4,   13, 3453, 3453, 3453, 3453, 3453, 3453, 3453, 3453,\n",
       "         3453, 3453, 3453, 3453, 3453, 3453, 3453, 3453, 3453, 3453, 3453, 3453,\n",
       "         3453, 3453, 3453, 3453, 3453, 3453, 3453, 3453]), 1)"
      ]
     },
     "execution_count": 87,
     "metadata": {},
     "output_type": "execute_result"
    }
   ],
   "source": [
    "content"
   ]
  },
  {
   "cell_type": "code",
   "execution_count": 77,
   "metadata": {},
   "outputs": [
    {
     "name": "stderr",
     "output_type": "stream",
     "text": [
      "3331it [00:00, 33302.73it/s]"
     ]
    },
    {
     "name": "stdout",
     "output_type": "stream",
     "text": [
      "Loading data...\n",
      "Vocab size: 3454\n"
     ]
    },
    {
     "name": "stderr",
     "output_type": "stream",
     "text": [
      "96456it [00:02, 37726.88it/s]\n",
      "12051it [00:00, 44899.97it/s]\n",
      "12060it [00:00, 32644.31it/s]"
     ]
    },
    {
     "name": "stdout",
     "output_type": "stream",
     "text": [
      "Time usage: 0:00:03\n"
     ]
    },
    {
     "name": "stderr",
     "output_type": "stream",
     "text": [
      "\n"
     ]
    }
   ],
   "source": [
    "# coding: UTF-8\n",
    "import time\n",
    "import torch\n",
    "import numpy as np\n",
    "from train_eval import train, init_network\n",
    "from importlib import import_module\n",
    "\n",
    "\n",
    "if __name__ == '__main__':\n",
    "    dataset = 'dataset'  # 数据集\n",
    "    embedding = 'random'\n",
    "    model_name = 'TextCNN'  # 'TextRCNN'  # TextCNN, TextRNN, FastText, TextRCNN, TextRNN_Att, DPCNN, Transformer\n",
    "    from utils import build_dataset, build_iterator, get_time_dif\n",
    "\n",
    "    x = import_module(model_name)\n",
    "    config = x.Config(dataset, embedding)\n",
    "    np.random.seed(1)\n",
    "    torch.manual_seed(1)\n",
    "    torch.cuda.manual_seed_all(1)\n",
    "    torch.backends.cudnn.deterministic = True  # 保证每次结果一样\n",
    "\n",
    "    start_time = time.time()\n",
    "    print(\"Loading data...\")\n",
    "    vocab, train_data, dev_data, test_data = build_dataset(config, False)\n",
    "    train_iter = build_iterator(train_data, config)\n",
    "    dev_iter = build_iterator(dev_data, config)\n",
    "    test_iter = build_iterator(test_data, config)\n",
    "    time_dif = get_time_dif(start_time)\n",
    "    print(\"Time usage:\", time_dif)"
   ]
  },
  {
   "cell_type": "code",
   "execution_count": 52,
   "metadata": {
    "scrolled": true
   },
   "outputs": [
    {
     "data": {
      "text/plain": [
       "(tensor([[  11,   45,    6,  ...,  657,   88,   21],\n",
       "         [  39,   11,   26,  ..., 3453, 3453, 3453],\n",
       "         [1054,  571, 1149,  ...,  256,   36,    5],\n",
       "         ...,\n",
       "         [ 703,  370,  424,  ..., 3453, 3453, 3453],\n",
       "         [  19,   16,   11,  ..., 3453, 3453, 3453],\n",
       "         [ 338,  170,  651,  ...,    0,   30,    8]]),\n",
       " tensor([32, 19, 32, 32, 18, 25, 32, 21, 18, 32, 18, 32, 21, 24, 32, 24, 27, 23,\n",
       "         20, 32, 32, 28, 20, 18, 32, 26, 31, 19, 32, 25, 20, 26, 28, 32, 20, 25,\n",
       "         14, 26, 22, 27, 20, 31, 32, 32, 23, 13, 25, 11, 29, 19, 22, 32, 32, 11,\n",
       "         30, 21, 32, 32, 23, 24, 32, 16, 32, 24, 10, 15, 11, 23, 32, 24, 32, 19,\n",
       "         32, 24, 26,  9, 19,  8,  2, 26, 32, 27, 21, 18, 25,  9, 13, 32, 15, 24,\n",
       "         30, 16, 32, 13, 18, 26, 32, 11, 20, 16, 14, 32, 25, 15, 11, 17, 23, 32,\n",
       "         19, 26, 24, 21, 22,  4, 32, 26, 17, 20, 32, 25, 30, 16, 17, 32, 24, 25,\n",
       "         26, 32]))"
      ]
     },
     "execution_count": 52,
     "metadata": {},
     "output_type": "execute_result"
    }
   ],
   "source": [
    "list(test_iter)[0][0]"
   ]
  },
  {
   "cell_type": "code",
   "execution_count": 96,
   "metadata": {},
   "outputs": [],
   "source": [
    "import pymysql\n",
    "import random\n",
    "from sklearn.utils import shuffle\n",
    "import pandas as pd\n",
    "\n",
    "conn=pymysql.connect(host='106.75.133.199',port=6823,user='gml_read',passwd='X7CGsW0HBKsdjsG_Msc;af',db='gml_base_qa',use_unicode=True, charset=\"utf8\")\n",
    "sql=\"SELECT a.goods_name,a.category_level2,b.name FROM common_goods_info a LEFT JOIN category_info b ON a.category_level2=b.id \"\n",
    "df_all=pd.read_sql(sql,con=conn)\n",
    "conn.close()\n",
    "df_model = df_all.loc[df_all[\"category_level2\"].notna(),[\"goods_name\",\"name\"]]\n",
    "categories = sorted(set(df_model[\"name\"]))\n",
    "categories_df = pd.DataFrame({\"name\":categories,\"label\":range(len(categories))})"
   ]
  },
  {
   "cell_type": "code",
   "execution_count": 98,
   "metadata": {},
   "outputs": [
    {
     "data": {
      "text/html": [
       "<div>\n",
       "<style scoped>\n",
       "    .dataframe tbody tr th:only-of-type {\n",
       "        vertical-align: middle;\n",
       "    }\n",
       "\n",
       "    .dataframe tbody tr th {\n",
       "        vertical-align: top;\n",
       "    }\n",
       "\n",
       "    .dataframe thead th {\n",
       "        text-align: right;\n",
       "    }\n",
       "</style>\n",
       "<table border=\"1\" class=\"dataframe\">\n",
       "  <thead>\n",
       "    <tr style=\"text-align: right;\">\n",
       "      <th></th>\n",
       "      <th>goods_name</th>\n",
       "      <th>name</th>\n",
       "    </tr>\n",
       "  </thead>\n",
       "  <tbody>\n",
       "    <tr>\n",
       "      <th>0</th>\n",
       "      <td>Schiff旭福预防乳糖益生菌胶囊32粒</td>\n",
       "      <td>保健品</td>\n",
       "    </tr>\n",
       "    <tr>\n",
       "      <th>1</th>\n",
       "      <td>拉杜蓝乔La Tourangelle 核桃油 250ml</td>\n",
       "      <td>进口食品</td>\n",
       "    </tr>\n",
       "    <tr>\n",
       "      <th>2</th>\n",
       "      <td>禧贝happybaby 蓝莓甜菜糙米饼40g/袋</td>\n",
       "      <td>进口食品</td>\n",
       "    </tr>\n",
       "    <tr>\n",
       "      <th>3</th>\n",
       "      <td>Meadjohnson美赞臣 婴幼儿奶粉 安婴宝Enfapro 2段</td>\n",
       "      <td>婴幼儿奶粉</td>\n",
       "    </tr>\n",
       "    <tr>\n",
       "      <th>4</th>\n",
       "      <td>Meadjohnson美赞臣 Premium 幼儿配方奶粉 3段</td>\n",
       "      <td>婴幼儿奶粉</td>\n",
       "    </tr>\n",
       "  </tbody>\n",
       "</table>\n",
       "</div>"
      ],
      "text/plain": [
       "                           goods_name   name\n",
       "0                Schiff旭福预防乳糖益生菌胶囊32粒    保健品\n",
       "1        拉杜蓝乔La Tourangelle 核桃油 250ml   进口食品\n",
       "2            禧贝happybaby 蓝莓甜菜糙米饼40g/袋   进口食品\n",
       "3  Meadjohnson美赞臣 婴幼儿奶粉 安婴宝Enfapro 2段  婴幼儿奶粉\n",
       "4    Meadjohnson美赞臣 Premium 幼儿配方奶粉 3段  婴幼儿奶粉"
      ]
     },
     "execution_count": 98,
     "metadata": {},
     "output_type": "execute_result"
    }
   ],
   "source": [
    "df_model.head()"
   ]
  },
  {
   "cell_type": "code",
   "execution_count": 97,
   "metadata": {},
   "outputs": [
    {
     "data": {
      "text/html": [
       "<div>\n",
       "<style scoped>\n",
       "    .dataframe tbody tr th:only-of-type {\n",
       "        vertical-align: middle;\n",
       "    }\n",
       "\n",
       "    .dataframe tbody tr th {\n",
       "        vertical-align: top;\n",
       "    }\n",
       "\n",
       "    .dataframe thead th {\n",
       "        text-align: right;\n",
       "    }\n",
       "</style>\n",
       "<table border=\"1\" class=\"dataframe\">\n",
       "  <thead>\n",
       "    <tr style=\"text-align: right;\">\n",
       "      <th></th>\n",
       "      <th>name</th>\n",
       "      <th>label</th>\n",
       "    </tr>\n",
       "  </thead>\n",
       "  <tbody>\n",
       "    <tr>\n",
       "      <th>0</th>\n",
       "      <td>个人洗护</td>\n",
       "      <td>0</td>\n",
       "    </tr>\n",
       "    <tr>\n",
       "      <th>1</th>\n",
       "      <td>保健品</td>\n",
       "      <td>1</td>\n",
       "    </tr>\n",
       "    <tr>\n",
       "      <th>2</th>\n",
       "      <td>口腔护理</td>\n",
       "      <td>2</td>\n",
       "    </tr>\n",
       "    <tr>\n",
       "      <th>3</th>\n",
       "      <td>女装/女士内衣</td>\n",
       "      <td>3</td>\n",
       "    </tr>\n",
       "    <tr>\n",
       "      <th>4</th>\n",
       "      <td>婴幼儿奶粉</td>\n",
       "      <td>4</td>\n",
       "    </tr>\n",
       "    <tr>\n",
       "      <th>5</th>\n",
       "      <td>孕产妇用品</td>\n",
       "      <td>5</td>\n",
       "    </tr>\n",
       "    <tr>\n",
       "      <th>6</th>\n",
       "      <td>宝宝服饰/玩具</td>\n",
       "      <td>6</td>\n",
       "    </tr>\n",
       "    <tr>\n",
       "      <th>7</th>\n",
       "      <td>宝宝洗护</td>\n",
       "      <td>7</td>\n",
       "    </tr>\n",
       "    <tr>\n",
       "      <th>8</th>\n",
       "      <td>宝宝用品_含纸尿片</td>\n",
       "      <td>8</td>\n",
       "    </tr>\n",
       "    <tr>\n",
       "      <th>9</th>\n",
       "      <td>宝宝食品</td>\n",
       "      <td>9</td>\n",
       "    </tr>\n",
       "    <tr>\n",
       "      <th>10</th>\n",
       "      <td>宠物食品/用品</td>\n",
       "      <td>10</td>\n",
       "    </tr>\n",
       "    <tr>\n",
       "      <th>11</th>\n",
       "      <td>家用家电</td>\n",
       "      <td>11</td>\n",
       "    </tr>\n",
       "    <tr>\n",
       "      <th>12</th>\n",
       "      <td>居家日用</td>\n",
       "      <td>12</td>\n",
       "    </tr>\n",
       "    <tr>\n",
       "      <th>13</th>\n",
       "      <td>彩妆/香水</td>\n",
       "      <td>13</td>\n",
       "    </tr>\n",
       "    <tr>\n",
       "      <th>14</th>\n",
       "      <td>护理护肤</td>\n",
       "      <td>14</td>\n",
       "    </tr>\n",
       "    <tr>\n",
       "      <th>15</th>\n",
       "      <td>数码3C</td>\n",
       "      <td>15</td>\n",
       "    </tr>\n",
       "    <tr>\n",
       "      <th>16</th>\n",
       "      <td>汽车用品</td>\n",
       "      <td>16</td>\n",
       "    </tr>\n",
       "    <tr>\n",
       "      <th>17</th>\n",
       "      <td>油品</td>\n",
       "      <td>17</td>\n",
       "    </tr>\n",
       "    <tr>\n",
       "      <th>18</th>\n",
       "      <td>男装/男士内衣</td>\n",
       "      <td>18</td>\n",
       "    </tr>\n",
       "    <tr>\n",
       "      <th>19</th>\n",
       "      <td>箱包/鞋靴</td>\n",
       "      <td>19</td>\n",
       "    </tr>\n",
       "    <tr>\n",
       "      <th>20</th>\n",
       "      <td>美容工具</td>\n",
       "      <td>20</td>\n",
       "    </tr>\n",
       "    <tr>\n",
       "      <th>21</th>\n",
       "      <td>运动户外</td>\n",
       "      <td>21</td>\n",
       "    </tr>\n",
       "    <tr>\n",
       "      <th>22</th>\n",
       "      <td>进口食品</td>\n",
       "      <td>22</td>\n",
       "    </tr>\n",
       "    <tr>\n",
       "      <th>23</th>\n",
       "      <td>进口饮料</td>\n",
       "      <td>23</td>\n",
       "    </tr>\n",
       "    <tr>\n",
       "      <th>24</th>\n",
       "      <td>餐厨/清洁</td>\n",
       "      <td>24</td>\n",
       "    </tr>\n",
       "    <tr>\n",
       "      <th>25</th>\n",
       "      <td>饰品/手表</td>\n",
       "      <td>25</td>\n",
       "    </tr>\n",
       "  </tbody>\n",
       "</table>\n",
       "</div>"
      ],
      "text/plain": [
       "         name  label\n",
       "0        个人洗护      0\n",
       "1         保健品      1\n",
       "2        口腔护理      2\n",
       "3     女装/女士内衣      3\n",
       "4       婴幼儿奶粉      4\n",
       "5       孕产妇用品      5\n",
       "6     宝宝服饰/玩具      6\n",
       "7        宝宝洗护      7\n",
       "8   宝宝用品_含纸尿片      8\n",
       "9        宝宝食品      9\n",
       "10    宠物食品/用品     10\n",
       "11       家用家电     11\n",
       "12       居家日用     12\n",
       "13      彩妆/香水     13\n",
       "14       护理护肤     14\n",
       "15       数码3C     15\n",
       "16       汽车用品     16\n",
       "17         油品     17\n",
       "18    男装/男士内衣     18\n",
       "19      箱包/鞋靴     19\n",
       "20       美容工具     20\n",
       "21       运动户外     21\n",
       "22       进口食品     22\n",
       "23       进口饮料     23\n",
       "24      餐厨/清洁     24\n",
       "25      饰品/手表     25"
      ]
     },
     "execution_count": 97,
     "metadata": {},
     "output_type": "execute_result"
    }
   ],
   "source": [
    "categories_df"
   ]
  },
  {
   "cell_type": "code",
   "execution_count": 106,
   "metadata": {},
   "outputs": [],
   "source": [
    "\n",
    "import torch\n",
    "A=torch.ones(2,3) #2x3的张量（矩阵）                                     \n",
    "B=2*torch.ones(2,4)#4x3的张"
   ]
  },
  {
   "cell_type": "code",
   "execution_count": 107,
   "metadata": {},
   "outputs": [
    {
     "name": "stdout",
     "output_type": "stream",
     "text": [
      "A: tensor([[1., 1., 1.],\n",
      "        [1., 1., 1.]])\n",
      "B: tensor([[2., 2., 2., 2.],\n",
      "        [2., 2., 2., 2.]])\n"
     ]
    }
   ],
   "source": [
    "print(\"A:\",A)\n",
    "print(\"B:\",B)"
   ]
  },
  {
   "cell_type": "code",
   "execution_count": 108,
   "metadata": {},
   "outputs": [
    {
     "data": {
      "text/plain": [
       "tensor([[1., 1., 1., 2., 2., 2., 2.],\n",
       "        [1., 1., 1., 2., 2., 2., 2.]])"
      ]
     },
     "execution_count": 108,
     "metadata": {},
     "output_type": "execute_result"
    }
   ],
   "source": [
    "torch.cat((A,B),1)"
   ]
  }
 ],
 "metadata": {
  "kernelspec": {
   "display_name": "Python 3",
   "language": "python",
   "name": "python3"
  },
  "language_info": {
   "codemirror_mode": {
    "name": "ipython",
    "version": 3
   },
   "file_extension": ".py",
   "mimetype": "text/x-python",
   "name": "python",
   "nbconvert_exporter": "python",
   "pygments_lexer": "ipython3",
   "version": "3.6.5"
  }
 },
 "nbformat": 4,
 "nbformat_minor": 2
}
