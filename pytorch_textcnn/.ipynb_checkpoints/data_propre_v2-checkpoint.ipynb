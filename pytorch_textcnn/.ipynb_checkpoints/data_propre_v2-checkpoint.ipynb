{
 "cells": [
  {
   "cell_type": "code",
   "execution_count": 110,
   "metadata": {},
   "outputs": [],
   "source": [
    "import pandas as pd\n",
    "import pymysql\n",
    "import random\n",
    "\n",
    "conn=pymysql.connect(host='106.75.133.199',port=6823,user='gml_read',passwd='X7CGsW0HBKsdjsG_Msc;af',db='gml_base_qa',use_unicode=True, charset=\"utf8\")\n",
    "sql=\"SELECT a.goods_name,a.category_level2,b.name FROM common_goods_info a LEFT JOIN category_info b ON a.category_level2=b.id \"\n",
    "df_all=pd.read_sql(sql,con=conn)\n",
    "conn.close()"
   ]
  },
  {
   "cell_type": "code",
   "execution_count": 112,
   "metadata": {},
   "outputs": [
    {
     "name": "stdout",
     "output_type": "stream",
     "text": [
      "df_model: (120567, 2)\n",
      "train_set: (96456, 2)\n",
      "test_set: (24111, 2)\n",
      "train_set+test_set: 120567\n"
     ]
    }
   ],
   "source": [
    "df_model = df_all.loc[df_all[\"category_level2\"].notna(),[\"goods_name\",\"name\"]]\n",
    "#sampling\n",
    "grouped = df_model.groupby('name',group_keys=False)\n",
    "train_index = grouped.apply(lambda x: x.sample(frac=0.8,random_state=8))\n",
    "train_set = df_model.loc[train_index.index].reset_index(drop=True)\n",
    "test_set = df_model.loc[~df_model.index.isin(train_index.index)].reset_index(drop=True)\n",
    "print(\"df_model:\",df_model.shape)\n",
    "print(\"train_set:\",train_set.shape)\n",
    "print(\"test_set:\",test_set.shape)\n",
    "print(\"train_set+test_set:\",train_set.shape[0] + test_set.shape[0])"
   ]
  }
 ],
 "metadata": {
  "kernelspec": {
   "display_name": "Python 3",
   "language": "python",
   "name": "python3"
  },
  "language_info": {
   "codemirror_mode": {
    "name": "ipython",
    "version": 3
   },
   "file_extension": ".py",
   "mimetype": "text/x-python",
   "name": "python",
   "nbconvert_exporter": "python",
   "pygments_lexer": "ipython3",
   "version": "3.6.5"
  }
 },
 "nbformat": 4,
 "nbformat_minor": 2
}
