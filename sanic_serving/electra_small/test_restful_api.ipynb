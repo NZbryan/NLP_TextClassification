{
 "cells": [
  {
   "cell_type": "code",
   "execution_count": 57,
   "metadata": {},
   "outputs": [
    {
     "name": "stdout",
     "output_type": "stream",
     "text": [
      "{'text': ['美国Nordic Naturals 儿童草莓味DHA鳕鱼油口服液 119ml'], 'predict_class': ['宝宝食品'], 'probabilities': [0.993]}\n"
     ]
    },
    {
     "data": {
      "text/plain": [
       "0.05424070358276367"
      ]
     },
     "execution_count": 57,
     "metadata": {},
     "output_type": "execute_result"
    }
   ],
   "source": [
    "import requests\n",
    "import time\n",
    "\n",
    "data = {\n",
    "  \"appkey\": \"Ka5Lpcc8\", \n",
    "  \"nonce\": \"810156\", \n",
    "  \"sign\": \"20a3a747a85e15883b365ded349aa728\", \n",
    "  \"text\": [\"美国Nordic Naturals 儿童草莓味DHA鳕鱼油口服液 119ml\"], \n",
    "  \"timestamp\": \"2020-05-14 15:36:44\"\n",
    "}\n",
    "start = time.time()\n",
    "\n",
    "r = requests.post('http://10.10.103.15:8200/transformerselectra', json=data)\n",
    "print(r.json())\n",
    "time.time() - start"
   ]
  },
  {
   "cell_type": "code",
   "execution_count": null,
   "metadata": {},
   "outputs": [],
   "source": []
  }
 ],
 "metadata": {
  "kernelspec": {
   "display_name": "tf_2.3",
   "language": "python",
   "name": "tf_2.3"
  },
  "language_info": {
   "codemirror_mode": {
    "name": "ipython",
    "version": 3
   },
   "file_extension": ".py",
   "mimetype": "text/x-python",
   "name": "python",
   "nbconvert_exporter": "python",
   "pygments_lexer": "ipython3",
   "version": "3.6.10"
  }
 },
 "nbformat": 4,
 "nbformat_minor": 2
}
